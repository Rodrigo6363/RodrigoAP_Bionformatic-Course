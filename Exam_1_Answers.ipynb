{
 "cells": [
  {
   "cell_type": "markdown",
   "metadata": {},
   "source": [
    "PROBLEM 2\n",
    "\n",
    "To see the owner of the file and the file-size we use the command \"ls -lh\", \"-h\" means in a human readable size\n",
    "\n",
    "The permissions on this file are: It is not a directory, It can be read/write for user, read/write for group and read for all.\n"
   ]
  },
  {
   "cell_type": "code",
   "execution_count": null,
   "metadata": {
    "scrolled": false
   },
   "outputs": [],
   "source": [
    "ls -lh Locus_Germplasm_Phenotype_20130122.txt"
   ]
  },
  {
   "cell_type": "markdown",
   "metadata": {},
   "source": [
    "PROBLEM 3\n",
    "\n",
    "We use the command head because display the first lines of a file, in this case the first one (\"-1\")"
   ]
  },
  {
   "cell_type": "code",
   "execution_count": null,
   "metadata": {},
   "outputs": [],
   "source": [
    "head -1 Locus_Germplasm_Phenotype_20130122.txt"
   ]
  },
  {
   "cell_type": "markdown",
   "metadata": {},
   "source": [
    "PROBLEM 4\n",
    "\n",
    "The command \"wc\" it allows us to show the number of lines in a file. \"-l\" means just the number of lines.\n"
   ]
  },
  {
   "cell_type": "code",
   "execution_count": null,
   "metadata": {},
   "outputs": [],
   "source": [
    "wc -l Locus_Germplasm_Phenotype_20130122.txt"
   ]
  },
  {
   "cell_type": "markdown",
   "metadata": {},
   "source": [
    "PROBLEM 5\n",
    "\n",
    "Due to we have to write only the data excluding the header, we use the command \"tail -7215\" then we copy the information excluding the header which is the first line. We know the latter because in the previous problem we discovered the number of lines in the file.\n",
    "\n",
    "Finally we prove that the file contains the data using the following command: \"cat\" which show us the entire content of a file.\n",
    "\n"
   ]
  },
  {
   "cell_type": "code",
   "execution_count": null,
   "metadata": {
    "scrolled": false
   },
   "outputs": [],
   "source": [
    "tail -7215 Locus_Germplasm_Phenotype_20130122.txt > Data_Only.csv\n",
    "cat Data_Only.csv"
   ]
  },
  {
   "cell_type": "markdown",
   "metadata": {},
   "source": [
    "PROBLEM 6\n",
    "\n",
    "The command \"grep\" allow us to see a certain set of characters in a file. We use that command whit the word root, and the we can see all of the phenotype that include the word root.\n",
    "\n"
   ]
  },
  {
   "cell_type": "code",
   "execution_count": null,
   "metadata": {
    "scrolled": false
   },
   "outputs": [],
   "source": [
    "grep -i \"root\" Locus_Germplasm_Phenotype_20130122.txt"
   ]
  },
  {
   "cell_type": "markdown",
   "metadata": {},
   "source": [
    "PROBLEM 7\n",
    "\n",
    "In this case we use a pipe \"|\" to combine the search for phenotype whit root and the AGI Locus code. To search the AGI Locus code we use the the command \"grep -Eio\", \"-E\" means that includes extended regular expression ({}) and -o is to show only the AGI codes. Finally we direct the output from the command to the file Root-associated-Loci.txt."
   ]
  },
  {
   "cell_type": "code",
   "execution_count": null,
   "metadata": {},
   "outputs": [],
   "source": [
    "grep -i \"root\" Locus_Germplasm_Phenotype_20130122.txt | grep -Eio \"AT[0-5]G[0-9]{5}\" > Root-associated-Loci.txt"
   ]
  },
  {
   "cell_type": "code",
   "execution_count": null,
   "metadata": {},
   "outputs": [],
   "source": [
    "cat Root-associated-Loci.txt"
   ]
  },
  {
   "cell_type": "markdown",
   "metadata": {},
   "source": [
    "PROBLEM 8\n",
    "\n",
    "In this problem we need to file the PubMed ID for every line that has a phenotype with the word root. For that we use the command \"grep -Eio \\s[0-9]+$\" that means only numbers appear with a space behind, one or more times and at the end of the line.\n"
   ]
  },
  {
   "cell_type": "code",
   "execution_count": null,
   "metadata": {},
   "outputs": [],
   "source": [
    " grep -i \"root\" Locus_Germplasm_Phenotype_20130122.txt |  grep -Eio \"\\s[0-9]+$\" > Root-associated-Publications.txt"
   ]
  },
  {
   "cell_type": "code",
   "execution_count": null,
   "metadata": {
    "scrolled": false
   },
   "outputs": [],
   "source": [
    "cat Root-associated-Publications.txt"
   ]
  },
  {
   "cell_type": "markdown",
   "metadata": {},
   "source": [
    "PROBLEM 9\n",
    "\n",
    "Only the chromosone 1 has the phenotype root, then the hypothesis is false."
   ]
  },
  {
   "cell_type": "code",
   "execution_count": null,
   "metadata": {},
   "outputs": [],
   "source": [
    "grep -i \"AT1\" Locus_Germplasm_Phenotype_20130122.txt"
   ]
  },
  {
   "cell_type": "code",
   "execution_count": null,
   "metadata": {},
   "outputs": [],
   "source": [
    "grep -i \"AT2\" Locus_Germplasm_Phenotype_20130122.txt"
   ]
  },
  {
   "cell_type": "code",
   "execution_count": null,
   "metadata": {},
   "outputs": [],
   "source": [
    "grep -i \"AT3\" Locus_Germplasm_Phenotype_20130122.txt"
   ]
  },
  {
   "cell_type": "code",
   "execution_count": null,
   "metadata": {},
   "outputs": [],
   "source": [
    "grep -i \"AT4\" Locus_Germplasm_Phenotype_20130122.txt"
   ]
  },
  {
   "cell_type": "code",
   "execution_count": null,
   "metadata": {},
   "outputs": [],
   "source": [
    "grep -i \"AT5\" Locus_Germplasm_Phenotype_20130122.txt"
   ]
  },
  {
   "cell_type": "markdown",
   "metadata": {},
   "source": [
    "PROBLEM 10\n",
    "\n",
    "I learn that with this type of informatics tool is very useful to resolve in a quickly way the hypothesis."
   ]
  }
 ],
 "metadata": {
  "kernelspec": {
   "display_name": "Bash",
   "language": "bash",
   "name": "bash"
  },
  "language_info": {
   "codemirror_mode": "shell",
   "file_extension": ".sh",
   "mimetype": "text/x-sh",
   "name": "bash"
  }
 },
 "nbformat": 4,
 "nbformat_minor": 2
}
